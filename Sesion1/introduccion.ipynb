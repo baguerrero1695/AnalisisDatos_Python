{
 "cells": [
  {
   "cell_type": "code",
   "execution_count": 70,
   "metadata": {},
   "outputs": [
    {
     "name": "stdout",
     "output_type": "stream",
     "text": [
      "Hola Mundo\n"
     ]
    }
   ],
   "source": [
    "print(\"Hola Mundo\")\n"
   ]
  },
  {
   "cell_type": "markdown",
   "metadata": {},
   "source": [
    "# Identacion"
   ]
  },
  {
   "cell_type": "markdown",
   "metadata": {},
   "source": [
    "# Comentarios"
   ]
  },
  {
   "cell_type": "markdown",
   "metadata": {},
   "source": [
    "# Tipos de variables"
   ]
  },
  {
   "cell_type": "code",
   "execution_count": 71,
   "metadata": {},
   "outputs": [],
   "source": [
    "# int,float,string,bool"
   ]
  },
  {
   "cell_type": "markdown",
   "metadata": {},
   "source": [
    "# Tipos de datos - Listas"
   ]
  },
  {
   "cell_type": "code",
   "execution_count": 72,
   "metadata": {},
   "outputs": [],
   "source": [
    "# lista vacia\n",
    "lista_1=[]\n",
    "\n",
    "# Lista de enteros\n",
    "lista_2=[1,2,3,4,5]\n",
    "\n",
    "# Lista mixta\n",
    "Lista_3=[1,2,\"hola\"]\n",
    "\n",
    "# Lista anidada\n",
    "Lista_4=[1,[\"hello\",12],[\"x\"]]"
   ]
  },
  {
   "cell_type": "code",
   "execution_count": 73,
   "metadata": {},
   "outputs": [
    {
     "name": "stdout",
     "output_type": "stream",
     "text": [
      "d\n",
      "['c', 'd', 'e']\n"
     ]
    }
   ],
   "source": [
    "# Accediendo a elementos de una lista\n",
    "\n",
    "\"\"\"\n",
    "Referencia de posiciones:\n",
    "a->0\n",
    "b->1\n",
    ".\n",
    ".\n",
    ".\n",
    "\n",
    "\"\"\"\n",
    "\n",
    "Lista = [\"a\",\"b\",\"c\",\"d\",\"e\",\"f\"]\n",
    "\n",
    "print (Lista[3])\n",
    "print(Lista[2:5])"
   ]
  },
  {
   "cell_type": "markdown",
   "metadata": {},
   "source": [
    "# Tipos de Datos - Tuplas"
   ]
  },
  {
   "cell_type": "code",
   "execution_count": 74,
   "metadata": {},
   "outputs": [
    {
     "name": "stdout",
     "output_type": "stream",
     "text": [
      "<class 'list'>\n"
     ]
    }
   ],
   "source": [
    "# Tupla vacia\n",
    "tupla_1 = ()\n",
    "\n",
    "# Tupla de enteros\n",
    "tupla_2 = (1,2,3,4,5)\n",
    "\n",
    "# Tupla mixta\n",
    "tupla_3 = (1,2,\"hola mundo\",4.4)\n",
    "\n",
    "# Tupla anidada\n",
    "tupla_4 = (1,2,(\"hola\",1),(\"x\"))\n",
    "\n",
    "# Tupla con valor único\n",
    "tupla = (\"Hello\",)\n",
    "print (type(lista_2))"
   ]
  },
  {
   "cell_type": "markdown",
   "metadata": {},
   "source": [
    "# Tipos de datos - Diccionario"
   ]
  },
  {
   "cell_type": "code",
   "execution_count": 75,
   "metadata": {},
   "outputs": [
    {
     "name": "stdout",
     "output_type": "stream",
     "text": [
      "Jack\n",
      "None\n"
     ]
    }
   ],
   "source": [
    "# Diccionario vacio\n",
    "diccionario_1 = {}\n",
    "\n",
    "# Diccionario con claves enteras {clave:valor}\n",
    "diccionario_2 = {1:\"Juan\", 2:\"Perez\"}\n",
    "\n",
    "#Diccionario con claves mixtas\n",
    "diccionario_3 = {\"nombre\":\"Jhon\", 1:[1,2,3,4]}\n",
    "\n",
    "diccionario = {\"nombre\":\"Jack\", \"edad\":24, \"pais\":\"Peru\"}\n",
    "print (diccionario['nombre'])\n",
    "print (diccionario.get('direccion'))"
   ]
  },
  {
   "cell_type": "code",
   "execution_count": 76,
   "metadata": {},
   "outputs": [
    {
     "name": "stdout",
     "output_type": "stream",
     "text": [
      "{'nombre': 'Jack', 'edad': 24, 'pais': 'Peru', 'direccion': 'Calle A'}\n",
      "1\n",
      "2\n",
      "hola mundo\n",
      "4.4\n",
      "nombre Jack\n",
      "edad 24\n",
      "pais Peru\n",
      "direccion Calle A\n",
      "nombre\n",
      "edad\n",
      "pais\n",
      "direccion\n"
     ]
    }
   ],
   "source": [
    "diccionario['direccion'] = \"Calle A\"\n",
    "print (diccionario)\n",
    "\n",
    "for item in tupla_3:\n",
    "    print(item)\n",
    "\n",
    "for clave, valor in diccionario.items():\n",
    "    print(clave, valor)\n",
    "\n",
    "for clave in diccionario.keys():\n",
    "    print(clave)"
   ]
  },
  {
   "cell_type": "markdown",
   "metadata": {},
   "source": [
    "# Controles de flujo"
   ]
  },
  {
   "cell_type": "code",
   "execution_count": 77,
   "metadata": {},
   "outputs": [
    {
     "name": "stdout",
     "output_type": "stream",
     "text": [
      "El numero es positivo\n",
      "siempre se ejecuta\n"
     ]
    }
   ],
   "source": [
    "# Control de flujo condicional\n",
    "numero = 3\n",
    "\n",
    "if numero > 0:\n",
    "    print(\"El numero es positivo\")\n",
    "print (\"siempre se ejecuta\")"
   ]
  },
  {
   "cell_type": "code",
   "execution_count": 78,
   "metadata": {},
   "outputs": [
    {
     "name": "stdout",
     "output_type": "stream",
     "text": [
      "El numero es positivo\n"
     ]
    }
   ],
   "source": [
    "# if... else...\n",
    "if numero > 0:\n",
    "    print(\"El numero es positivo\")\n",
    "else:\n",
    "    print(\"El numero es negativo\")"
   ]
  },
  {
   "cell_type": "code",
   "execution_count": 79,
   "metadata": {},
   "outputs": [
    {
     "name": "stdout",
     "output_type": "stream",
     "text": [
      "El dato es 1\n",
      "El dato es 2\n",
      "El dato es 3\n",
      "El dato es 4\n",
      "El dato es 5\n"
     ]
    }
   ],
   "source": [
    "for item in lista_2:\n",
    "    print (f\"El dato es {item}\")"
   ]
  },
  {
   "cell_type": "code",
   "execution_count": 80,
   "metadata": {},
   "outputs": [
    {
     "name": "stdout",
     "output_type": "stream",
     "text": [
      "La suma es 55\n"
     ]
    }
   ],
   "source": [
    "# While\n",
    "n = 10\n",
    "sum = 0\n",
    "i = 1\n",
    "\n",
    "while i <= n:\n",
    "    sum = sum + i\n",
    "    i = i + 1\n",
    "\n",
    "print (f\"La suma es {sum}\")"
   ]
  },
  {
   "cell_type": "code",
   "execution_count": 81,
   "metadata": {},
   "outputs": [
    {
     "name": "stdout",
     "output_type": "stream",
     "text": [
      "division by zero\n"
     ]
    }
   ],
   "source": [
    "try:\n",
    "    print(220/0)\n",
    "except Exception as e:\n",
    "    print(e)"
   ]
  },
  {
   "cell_type": "markdown",
   "metadata": {},
   "source": [
    "# Funciones"
   ]
  },
  {
   "cell_type": "code",
   "execution_count": 82,
   "metadata": {},
   "outputs": [
    {
     "name": "stdout",
     "output_type": "stream",
     "text": [
      "5\n"
     ]
    }
   ],
   "source": [
    "def funcion(x):\n",
    "    return 2+x\n",
    "\n",
    "y=funcion(3)\n",
    "print(y)"
   ]
  },
  {
   "cell_type": "code",
   "execution_count": null,
   "metadata": {},
   "outputs": [],
   "source": [
    "def clean_data(dataset):\n",
    "    \"\"\"\n",
    "    Describir que hace la funcion\n",
    "    parametros de entrada\n",
    "    dataset: es un dataframe\n",
    "    list_column: lista de columnas\n",
    "\n",
    "    Salida:\n",
    "    df: dataset filtrado\n",
    "    \"\"\"\n",
    "    df = dataset.query(\"colum1 != null\")\n",
    "    df = df.select['columna1','columna2',\"columna3\"]\n",
    "    return def\n",
    "\n"
   ]
  }
 ],
 "metadata": {
  "kernelspec": {
   "display_name": "Python 3 (ipykernel)",
   "language": "python",
   "name": "python3"
  },
  "language_info": {
   "codemirror_mode": {
    "name": "ipython",
    "version": 3
   },
   "file_extension": ".py",
   "mimetype": "text/x-python",
   "name": "python",
   "nbconvert_exporter": "python",
   "pygments_lexer": "ipython3",
   "version": "3.10.13"
  }
 },
 "nbformat": 4,
 "nbformat_minor": 2
}
